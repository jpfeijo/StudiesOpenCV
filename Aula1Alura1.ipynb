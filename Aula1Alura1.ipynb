{
 "cells": [
  {
   "cell_type": "code",
   "execution_count": 20,
   "metadata": {},
   "outputs": [],
   "source": [
    "#3 features\n",
    "p1 = [0, 1, 0]\n",
    "p2 = [0, 1, 1]\n",
    "p3 = [1, 1, 0]\n",
    "c1 = [0, 1, 1]\n",
    "c2 = [1, 0, 1]\n",
    "c3 = [1, 1, 1]\n",
    "train_x = [p1,p2,p3,c1,c2,c3] #conjunto de dados\n",
    "train_y = [0,0,0,1,1,1] #labels"
   ]
  },
  {
   "cell_type": "code",
   "execution_count": 21,
   "metadata": {},
   "outputs": [
    {
     "data": {
      "text/plain": [
       "LinearSVC()"
      ]
     },
     "execution_count": 21,
     "metadata": {},
     "output_type": "execute_result"
    }
   ],
   "source": [
    "from sklearn.svm import LinearSVC\n",
    "model = LinearSVC()\n",
    "model.fit(train_x, train_y)"
   ]
  },
  {
   "cell_type": "code",
   "execution_count": 22,
   "metadata": {},
   "outputs": [
    {
     "data": {
      "text/plain": [
       "array([1])"
      ]
     },
     "execution_count": 22,
     "metadata": {},
     "output_type": "execute_result"
    }
   ],
   "source": [
    "aniamal_misterioso = [1,1,1]\n",
    "model.predict([aniamal_misterioso])"
   ]
  },
  {
   "cell_type": "code",
   "execution_count": 25,
   "metadata": {},
   "outputs": [],
   "source": [
    "m1 =  [1, 1, 1]\n",
    "m2 =  [1, 1, 0]\n",
    "m3 =  [0, 1, 1]\n",
    "m4 =  [1, 0, 1]\n",
    "m5 =  [1, 1, 1]\n",
    "\n",
    "test_x = [m1,m2,m3,m4,m5]\n",
    "test_y = [1, 0, 0, 1, 1]\n",
    "\n",
    "previsoes = model.predict(test_x)\n"
   ]
  },
  {
   "cell_type": "code",
   "execution_count": 26,
   "metadata": {},
   "outputs": [
    {
     "name": "stdout",
     "output_type": "stream",
     "text": [
      "0.8\n"
     ]
    }
   ],
   "source": [
    "from sklearn.metrics import accuracy_score\n",
    "taxa = accuracy_score(test_y, es)\n",
    "print(taxa)"
   ]
  },
  {
   "cell_type": "code",
   "execution_count": null,
   "metadata": {},
   "outputs": [],
   "source": []
  }
 ],
 "metadata": {
  "kernelspec": {
   "display_name": "Python 3.9.13",
   "language": "python",
   "name": "python3"
  },
  "language_info": {
   "codemirror_mode": {
    "name": "ipython",
    "version": 3
   },
   "file_extension": ".py",
   "mimetype": "text/x-python",
   "name": "python",
   "nbconvert_exporter": "python",
   "pygments_lexer": "ipython3",
   "version": "3.9.13"
  },
  "orig_nbformat": 4,
  "vscode": {
   "interpreter": {
    "hash": "4993c2f0909598ee557abc6fd61a782f52ebe0c9ffa812fbc02e3bb42b0ae469"
   }
  }
 },
 "nbformat": 4,
 "nbformat_minor": 2
}
