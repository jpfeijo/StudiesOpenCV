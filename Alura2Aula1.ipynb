{
 "cells": [
  {
   "cell_type": "code",
   "execution_count": null,
   "metadata": {},
   "outputs": [],
   "source": [
    "import tensorflow as tf\n"
   ]
  }
 ],
 "metadata": {
  "kernelspec": {
   "display_name": "Python 3.9.13",
   "language": "python",
   "name": "python3"
  },
  "language_info": {
   "name": "python",
   "version": "3.9.13"
  },
  "orig_nbformat": 4,
  "vscode": {
   "interpreter": {
    "hash": "4993c2f0909598ee557abc6fd61a782f52ebe0c9ffa812fbc02e3bb42b0ae469"
   }
  }
 },
 "nbformat": 4,
 "nbformat_minor": 2
}
